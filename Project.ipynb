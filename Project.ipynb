{
 "cells": [
  {
   "cell_type": "markdown",
   "metadata": {},
   "source": [
    "# Proyek Akhir Robotika\n"
   ]
  },
  {
   "cell_type": "markdown",
   "metadata": {},
   "source": [
    "## Anggota:\n",
    "- Anel\n",
    "- Adnan\n",
    "- Rio\n",
    "- Tegar\n",
    "- Alif"
   ]
  },
  {
   "cell_type": "markdown",
   "metadata": {},
   "source": [
    "## Planning"
   ]
  },
  {
   "cell_type": "markdown",
   "metadata": {},
   "source": [
    "### Identifikasi Masalah"
   ]
  },
  {
   "cell_type": "markdown",
   "metadata": {},
   "source": [
    "\n",
    "1. Masalah Utama (Tracking Bola):\n",
    "    - Bagaimana mengembangkan robot yang mampu mendeteksi dan melacak bola secara akurat dalam berbagai kondisi pencahayaan dan lingkungan?\n",
    "    - Tantangan: Deteksi bola harus real-time dan konsisten, sementara robot harus bisa menggerakkan dirinya ke arah bola dengan responsif menggunakan motor DC.\n",
    "2. Optimasi Tracking:Masalah: \n",
    "    - Bagaimana memastikan robot bisa melacak bola secara sempurna dan menghindari kesalahan deteksi atau pelacakan, seperti kehilangan target atau kesalahan gerakan robot saat mengikuti bola.\n",
    "    -Tantangan: Perlu penyesuaian algoritma deteksi dan gerakan yang dinamis untuk berbagai kecepatan dan arah pergerakan bola.\n",
    "3. Fitur Tambahan (Menendang dan Mengenal Gawang)(Optional, jika 2 poin diatas sudah diatasi):\n",
    "    - Masalah: Setelah pelacakan bola sempurna, bagaimana menambahkan fitur agar robot bisa mengenali dan menendang bola ke arah target, serta mengenali gawang sebagai tujuan akhir.\n",
    "    - Tantangan: Implementasi model tambahan atau pengenalan objek lebih kompleks, seperti deteksi gawang, serta kontrol motorik yang lebih halus untuk menendang bola dengan kekuatan dan akurasi yang tepat."
   ]
  },
  {
   "cell_type": "markdown",
   "metadata": {},
   "source": [
    "### Modeling"
   ]
  },
  {
   "cell_type": "markdown",
   "metadata": {},
   "source": [
    "1. Modeling (Deteksi Warna Awal)\n",
    "Kami akan menggunakan kamera dan HSV color space untuk mendeteksi warna bola secara real-time. Motor DC akan menggerakkan robot sesuai dengan posisi bola yang terdeteksi, dengan algoritma yang menggunakan informasi posisi X dan Y bola.\n",
    "\n",
    "2. Modeling Lanjutan (YOLO)\n",
    "Ketika deteksi warna sudah berjalan dengan baik, kami akan beralih ke metode YOLO untuk mendeteksi bola secara lebih presisi dan dalam kondisi pencahayaan yang lebih kompleks. YOLO akan dilatih menggunakan dataset dengan label bounding box yang bisa kami peroleh dari Kaggle atau melalui pelabelan manual. Setelah model YOLO dilatih, kami akan mengimplementasikan untuk mendeteksi bola dalam video secara real-time. Posisi bounding box bola yang terdeteksi akan digunakan untuk menggerakkan robot secara akurat mengikuti bola.\n"
   ]
  },
  {
   "cell_type": "markdown",
   "metadata": {},
   "source": [
    "### Data Gathering"
   ]
  },
  {
   "cell_type": "markdown",
   "metadata": {},
   "source": [
    "1. Data Gathering\n",
    "Untuk tahap awal, kami dapat merekam video bola dengan warna yang mencolok dan kontras tinggi di berbagai kondisi pencahayaan. Setelah video diambil, kami akan mengekstrak beberapa frame untuk melatih dan menguji model. Frame yang diambil akan dilabeli warna bola untuk membantu sistem dalam mengenali targetnya.\n",
    "\n",
    "2. Dataset Kaggle\n",
    "Selain itu, kami juga dapat memanfaatkan dataset yang sudah ada di Kaggle untuk mempercepat proses. Contoh dataset yang relevan bisa ditemukan di Kaggle, seperti dataset bola sepak yang sudah dilabeli. Dataset dari Kaggle akan sangat membantu dalam fase pelatihan, baik untuk deteksi berbasis warna maupun YOLO."
   ]
  },
  {
   "cell_type": "markdown",
   "metadata": {},
   "source": [
    "### Preprocessing Data"
   ]
  },
  {
   "cell_type": "markdown",
   "metadata": {},
   "source": [
    "1. Preprocessing Data\n",
    "Kami akan mengonversi citra dari format RGB ke HSV agar lebih mudah dalam mendeteksi warna spesifik dari bola. Selanjutnya, kami terapkan thresholding pada warna bola untuk membuat area bola lebih jelas dan terisolasi dari latar belakang.\n",
    "2. Preprocessing Lanjutan\n",
    "Jika menggunakan dataset gambar, tentunya preprocessing akan terdiri dari resizing, pengahpusan noise. Tak kalah penting akan dilakukan labeling dengan bounding box untuk memberikan info posisi bola sebelum di latih"
   ]
  },
  {
   "cell_type": "markdown",
   "metadata": {},
   "source": [
    "### Ekstraksi Fitur"
   ]
  },
  {
   "cell_type": "markdown",
   "metadata": {},
   "source": [
    "1. Ekstraksi Fitur\n",
    "Setelah deteksi warna dilakukan, kami akan mengekstrak posisi bola dengan menghitung centroid dari area bola yang terdeteksi. Posisi X dan Y dari centroid ini akan digunakan untuk mengontrol arah gerakan robot secara otomatis, menggerakkannya ke arah bola."
   ]
  },
  {
   "cell_type": "markdown",
   "metadata": {},
   "source": [
    "## Excecution"
   ]
  },
  {
   "cell_type": "markdown",
   "metadata": {},
   "source": [
    "### Progress Pertama (Kode Mengenal Bola dengan Contour Warna)"
   ]
  },
  {
   "cell_type": "code",
   "execution_count": 5,
   "metadata": {},
   "outputs": [],
   "source": [
    "import cv2\n",
    "import imutils\n",
    "import numpy as np\n",
    "\n",
    "# Mendefinisikan nilai rentang HSV untuk warna bola (biru dan hijau)\n",
    "ball_hsv_values = {\n",
    "    \"Blue\": {  # Rentang HSV untuk bola biru\n",
    "        \"lower\": (89, 100, 100),  \n",
    "        \"upper\": (109, 255, 255)\n",
    "    },\n",
    "    \"Green\": {  # Rentang HSV untuk bola hijau\n",
    "        \"lower\": (61, 100, 100),\n",
    "        \"upper\": (81, 255, 255) \n",
    "    }\n",
    "}\n",
    "\n",
    "\n"
   ]
  },
  {
   "cell_type": "code",
   "execution_count": 6,
   "metadata": {},
   "outputs": [],
   "source": [
    "# Kelas BallTracker \n",
    "class BallTracker:\n",
    "    MIN_BALL_RADIUS = 10  \n",
    "    MAX_BALL_RADIUS = 60\n",
    "    FRAME_WIDTH = 500 \n",
    "\n",
    "    # Konstruktor\n",
    "    def __init__(self, color: str) -> None:\n",
    "        assert color in ball_hsv_values \n",
    "        self.color = color\n",
    "        self.lower_bound = ball_hsv_values[color]['lower']  \n",
    "        self.upper_bound = ball_hsv_values[color]['upper'] \n",
    "        self.camera = cv2.VideoCapture(0)  \n",
    "\n",
    "    # Fungsi untuk mengambil frame video dan mengubahnya ke format HSV\n",
    "    def get_video_frame(self):\n",
    "        ret, frame_in_bgr = self.camera.read()  \n",
    "        if not ret:\n",
    "            raise Exception('Unable to read from the camera')  \n",
    "        frame_in_bgr = imutils.resize(frame_in_bgr, width=self.FRAME_WIDTH) \n",
    "        frame_in_hsv = cv2.cvtColor(frame_in_bgr, cv2.COLOR_BGR2HSV)  \n",
    "        return frame_in_bgr, frame_in_hsv  \n",
    "\n",
    "    # Fungsi untuk membuat mask dari frame berdasarkan rentang warna HSV\n",
    "    def get_mask(self, frame_in_hsv):\n",
    "        mask = cv2.inRange(frame_in_hsv, self.lower_bound, self.upper_bound)  \n",
    "        mask = cv2.erode(mask, None, iterations=2) \n",
    "        mask = cv2.dilate(mask, None, iterations=2) \n",
    "        return mask\n",
    "\n",
    "    # Fungsi untuk menemukan kontur terbesar dari mask (yang diasumsikan sebagai bola)\n",
    "    def get_contour(self, mask):\n",
    "        contours = cv2.findContours(mask.copy(), cv2.RETR_EXTERNAL, cv2.CHAIN_APPROX_SIMPLE)\n",
    "        contours = contours[0]  \n",
    "        if len(contours) > 0:\n",
    "            return max(contours, key=cv2.contourArea)  # Mengembalikan kontur terbesar (asumsi sebagai bola)\n",
    "        return None  \n",
    "\n",
    "    # Fungsi utama\n",
    "    def track_ball(self, display_on_screen=True):\n",
    "        while True:\n",
    "            frame_in_bgr, frame_in_hsv = self.get_video_frame()\n",
    "            mask = self.get_mask(frame_in_hsv) \n",
    "            contour = self.get_contour(mask)\n",
    "\n",
    "            # Menggambar sistem koordinat Kartesius di tengah frame\n",
    "            height, width, _ = frame_in_bgr.shape\n",
    "            cv2.line(frame_in_bgr, (width // 2, 0), (width // 2, height), (255, 0, 0), 1)\n",
    "            cv2.line(frame_in_bgr, (0, height // 2), (width, height // 2), (255, 0, 0), 1)\n",
    "            \n",
    "            if contour is not None:\n",
    "            # Mencari lingkaran yang melingkupi kontur dan mengambil posisinya\n",
    "                ((x, y), radius) = cv2.minEnclosingCircle(contour)\n",
    "                if radius > self.MIN_BALL_RADIUS:\n",
    "                    x, y, radius = int(x), int(y), int(radius)  # Konversi ke integer\n",
    "                    cv2.circle(frame_in_bgr, (x, y), radius, (0, 0, 255), 2)  # Gambar lingkaran di sekitar bola\n",
    "\n",
    "                    # Periksa apakah bola cukup besar dan berada di tengah\n",
    "                    if radius > 100 and (width // 2 - 50 < x < width // 2 + 50):\n",
    "                        command = \"Tendang\"\n",
    "                    else:\n",
    "                        command = \"\"  # Kosongkan jika tidak ada perintah tendang\n",
    "\n",
    "                    # Tentukan arah gerakan robot berdasarkan posisi bola\n",
    "                    if x < width // 2 - 50:  # Bola berada di kiri\n",
    "                        movement = \"Turn Left\"\n",
    "                    elif x > width // 2 + 50:  # Bola berada di kanan\n",
    "                        movement = \"Turn Right\"\n",
    "                    else:  # Bola berada di tengah\n",
    "                        movement = \"Move Forward\"\n",
    "\n",
    "                    # Tampilkan instruksi gerakan pada frame\n",
    "                    cv2.putText(frame_in_bgr, movement, (10, 30), cv2.FONT_HERSHEY_SIMPLEX, 1, (0, 255, 0), 2)\n",
    "                    # Tampilkan perintah tendang jika ada\n",
    "                    if command:\n",
    "                        cv2.putText(frame_in_bgr, command, (10, 60), cv2.FONT_HERSHEY_SIMPLEX, 1, (0, 0, 255), 2)\n",
    "\n",
    "            if display_on_screen:\n",
    "                cv2.imshow(\"Ball Tracking\", frame_in_bgr)\n",
    "            if cv2.waitKey(1) & 0xFF == ord(\"q\"):\n",
    "                break\n",
    "\n",
    "        self.camera.release()\n",
    "        cv2.destroyAllWindows()\n"
   ]
  },
  {
   "cell_type": "code",
   "execution_count": 7,
   "metadata": {},
   "outputs": [],
   "source": [
    "tracker = BallTracker(\"Blue\") \n",
    "tracker.track_ball()"
   ]
  },
  {
   "cell_type": "code",
   "execution_count": 9,
   "metadata": {},
   "outputs": [],
   "source": [
    "tracker = BallTracker(\"Green\") \n",
    "tracker.track_ball()"
   ]
  },
  {
   "cell_type": "markdown",
   "metadata": {},
   "source": [
    "Kode di atas bertujuan untuk melacak bola menggunakan deteksi warna berbasis HSV dan menggerakkan robot berdasarkan posisi bola. Jika kontur bola terdeteksi, sistem menghitung lingkaran yang mengelilingi bola untuk menentukan posisi X dan Y serta radius bola. Berdasarkan posisi bola di frame, robot akan mengambil tindakan seperti \"Turn Left\", \"Turn Right\", atau \"Move Forward\". Jika bola cukup besar dan berada di tengah frame, robot akan mengeluarkan perintah \"Tendang\". Perintah ini serta instruksi gerakan ditampilkan pada video yang diproses, memungkinkan pengendalian robot secara real-time."
   ]
  }
 ],
 "metadata": {
  "kernelspec": {
   "display_name": "Python 3",
   "language": "python",
   "name": "python3"
  },
  "language_info": {
   "codemirror_mode": {
    "name": "ipython",
    "version": 3
   },
   "file_extension": ".py",
   "mimetype": "text/x-python",
   "name": "python",
   "nbconvert_exporter": "python",
   "pygments_lexer": "ipython3",
   "version": "3.12.0"
  }
 },
 "nbformat": 4,
 "nbformat_minor": 2
}
