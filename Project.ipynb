{
 "cells": [
  {
   "cell_type": "markdown",
   "metadata": {},
   "source": [
    "# Proyek Akhir Robotika\n"
   ]
  },
  {
   "cell_type": "markdown",
   "metadata": {},
   "source": [
    "## Anggota:\n",
    "- Anel\n",
    "- Adnan\n",
    "- Rio\n",
    "- Tegar\n",
    "- Alif"
   ]
  },
  {
   "cell_type": "markdown",
   "metadata": {},
   "source": [
    "## Planning"
   ]
  },
  {
   "cell_type": "markdown",
   "metadata": {},
   "source": [
    "### Identifikasi Masalah"
   ]
  },
  {
   "cell_type": "markdown",
   "metadata": {},
   "source": [
    "\n",
    "1. Masalah Utama (Tracking Bola):\n",
    "    - Bagaimana mengembangkan robot yang mampu mendeteksi dan melacak bola secara akurat dalam berbagai kondisi pencahayaan dan lingkungan?\n",
    "    - Tantangan: Deteksi bola harus real-time dan konsisten, sementara robot harus bisa menggerakkan dirinya ke arah bola dengan responsif menggunakan motor DC.\n",
    "2. Optimasi Tracking:Masalah: \n",
    "    - Bagaimana memastikan robot bisa melacak bola secara sempurna dan menghindari kesalahan deteksi atau pelacakan, seperti kehilangan target atau kesalahan gerakan robot saat mengikuti bola.\n",
    "    -Tantangan: Perlu penyesuaian algoritma deteksi dan gerakan yang dinamis untuk berbagai kecepatan dan arah pergerakan bola.\n",
    "3. Fitur Tambahan (Menendang dan Mengenal Gawang)(Optional, jika 2 poin diatas sudah diatasi):\n",
    "    - Masalah: Setelah pelacakan bola sempurna, bagaimana menambahkan fitur agar robot bisa mengenali dan menendang bola ke arah target, serta mengenali gawang sebagai tujuan akhir.\n",
    "    - Tantangan: Implementasi model tambahan atau pengenalan objek lebih kompleks, seperti deteksi gawang, serta kontrol motorik yang lebih halus untuk menendang bola dengan kekuatan dan akurasi yang tepat."
   ]
  },
  {
   "cell_type": "markdown",
   "metadata": {},
   "source": [
    "### Modeling"
   ]
  },
  {
   "cell_type": "markdown",
   "metadata": {},
   "source": [
    "1. Modeling (Deteksi Warna Awal)\n",
    "Kami akan menggunakan kamera dan HSV color space untuk mendeteksi warna bola secara real-time. Motor DC akan menggerakkan robot sesuai dengan posisi bola yang terdeteksi, dengan algoritma yang menggunakan informasi posisi X dan Y bola.\n",
    "\n",
    "2. Modeling Lanjutan (YOLO)\n",
    "Ketika deteksi warna sudah berjalan dengan baik, kami akan beralih ke metode YOLO untuk mendeteksi bola secara lebih presisi dan dalam kondisi pencahayaan yang lebih kompleks. YOLO akan dilatih menggunakan dataset dengan label bounding box yang bisa kami peroleh dari Kaggle atau melalui pelabelan manual. Setelah model YOLO dilatih, kami akan mengimplementasikan untuk mendeteksi bola dalam video secara real-time. Posisi bounding box bola yang terdeteksi akan digunakan untuk menggerakkan robot secara akurat mengikuti bola.\n"
   ]
  },
  {
   "cell_type": "markdown",
   "metadata": {},
   "source": [
    "### Data Gathering"
   ]
  },
  {
   "cell_type": "markdown",
   "metadata": {},
   "source": [
    "1. Data Gathering\n",
    "Untuk tahap awal, kami dapat merekam video bola dengan warna yang mencolok dan kontras tinggi di berbagai kondisi pencahayaan. Setelah video diambil, kami akan mengekstrak beberapa frame untuk melatih dan menguji model. Frame yang diambil akan dilabeli warna bola untuk membantu sistem dalam mengenali targetnya.\n",
    "\n",
    "2. Dataset Kaggle\n",
    "Selain itu, kami juga dapat memanfaatkan dataset yang sudah ada di Kaggle untuk mempercepat proses. Contoh dataset yang relevan bisa ditemukan di Kaggle, seperti dataset bola sepak yang sudah dilabeli. Dataset dari Kaggle akan sangat membantu dalam fase pelatihan, baik untuk deteksi berbasis warna maupun YOLO."
   ]
  },
  {
   "cell_type": "markdown",
   "metadata": {},
   "source": [
    "### Preprocessing Data"
   ]
  },
  {
   "cell_type": "markdown",
   "metadata": {},
   "source": [
    "1. Preprocessing Data\n",
    "Kami akan mengonversi citra dari format RGB ke HSV agar lebih mudah dalam mendeteksi warna spesifik dari bola. Selanjutnya, kami terapkan thresholding pada warna bola untuk membuat area bola lebih jelas dan terisolasi dari latar belakang.\n",
    "2. Preprocessing Lanjutan\n",
    "Jika menggunakan dataset gambar, tentunya preprocessing akan terdiri dari resizing, pengahpusan noise. Tak kalah penting akan dilakukan labeling dengan bounding box untuk memberikan info posisi bola sebelum di latih"
   ]
  },
  {
   "cell_type": "markdown",
   "metadata": {},
   "source": [
    "### Ekstraksi Fitur"
   ]
  },
  {
   "cell_type": "markdown",
   "metadata": {},
   "source": [
    "1. Ekstraksi Fitur\n",
    "Setelah deteksi warna dilakukan, kami akan mengekstrak posisi bola dengan menghitung centroid dari area bola yang terdeteksi. Posisi X dan Y dari centroid ini akan digunakan untuk mengontrol arah gerakan robot secara otomatis, menggerakkannya ke arah bola."
   ]
  },
  {
   "cell_type": "markdown",
   "metadata": {},
   "source": [
    "## Excecution"
   ]
  },
  {
   "cell_type": "markdown",
   "metadata": {},
   "source": [
    "### Progress Pertama (Kode Mengenal Bola dengan Contour Warna)"
   ]
  },
  {
   "cell_type": "code",
   "execution_count": 2,
   "metadata": {},
   "outputs": [],
   "source": [
    "import cv2\n",
    "import imutils\n",
    "import numpy as np\n",
    "\n",
    "ball_hsv_values = {\n",
    "    \"Blue\": {  # Rentang HSV untuk bola biru\n",
    "        \"lower\": (89, 100, 100),  \n",
    "        \"upper\": (109, 255, 255)\n",
    "    },\n",
    "    \"Green\": {  # Rentang HSV untuk bola hijau\n",
    "        \"lower\": (61, 100, 100),\n",
    "        \"upper\": (81, 255, 255) \n",
    "    },\n",
    "    \"Yellow\": {  # Rentang HSV untuk bola kuning\n",
    "        \"lower\": (20, 100, 100),\n",
    "        \"upper\": (30, 255, 255)\n",
    "    },\n",
    "    \"Orange\": {  # Rentang HSV untuk bola oranye gelap\n",
    "        \"lower\": (5, 100, 100),   # Rentang lebih rendah untuk hue\n",
    "        \"upper\": (15, 255, 255)   # Rentang lebih tinggi untuk hue\n",
    "    }\n",
    "}\n",
    "\n",
    "\n",
    "\n",
    "\n"
   ]
  },
  {
   "cell_type": "code",
   "execution_count": 3,
   "metadata": {},
   "outputs": [],
   "source": [
    "# Kelas BallTracker \n",
    "class BallTracker:\n",
    "    MIN_BALL_RADIUS = 10  \n",
    "    MAX_BALL_RADIUS = 60\n",
    "    FRAME_WIDTH = 500 \n",
    "\n",
    "    # Konstruktor\n",
    "    def __init__(self, color: str) -> None:\n",
    "        assert color in ball_hsv_values \n",
    "        self.color = color\n",
    "        self.lower_bound = ball_hsv_values[color]['lower']  \n",
    "        self.upper_bound = ball_hsv_values[color]['upper'] \n",
    "        self.camera = cv2.VideoCapture(1)  \n",
    "\n",
    "    # Fungsi untuk mengambil frame video dan mengubahnya ke format HSV\n",
    "    def get_video_frame(self):\n",
    "        ret, frame_in_bgr = self.camera.read()  \n",
    "        if not ret:\n",
    "            raise Exception('Unable to read from the camera')  \n",
    "        frame_in_bgr = imutils.resize(frame_in_bgr, width=self.FRAME_WIDTH) \n",
    "        frame_in_hsv = cv2.cvtColor(frame_in_bgr, cv2.COLOR_BGR2HSV)  \n",
    "        return frame_in_bgr, frame_in_hsv  \n",
    "\n",
    "    # Fungsi untuk membuat mask dari frame berdasarkan rentang warna HSV\n",
    "    def get_mask(self, frame_in_hsv):\n",
    "        mask = cv2.inRange(frame_in_hsv, self.lower_bound, self.upper_bound)  \n",
    "        mask = cv2.erode(mask, None, iterations=2) \n",
    "        mask = cv2.dilate(mask, None, iterations=2) \n",
    "        return mask\n",
    "\n",
    "    # Fungsi untuk menemukan kontur terbesar dari mask (yang diasumsikan sebagai bola)\n",
    "    def get_contour(self, mask):\n",
    "        contours = cv2.findContours(mask.copy(), cv2.RETR_EXTERNAL, cv2.CHAIN_APPROX_SIMPLE)\n",
    "        contours = contours[0]  \n",
    "        if len(contours) > 0:\n",
    "            return max(contours, key=cv2.contourArea)  # Mengembalikan kontur terbesar (asumsi sebagai bola)\n",
    "        return None  \n",
    "\n",
    "    # Fungsi utama\n",
    "    def track_ball(self, display_on_screen=True):\n",
    "        while True:\n",
    "            frame_in_bgr, frame_in_hsv = self.get_video_frame()\n",
    "            mask = self.get_mask(frame_in_hsv) \n",
    "            contour = self.get_contour(mask)\n",
    "\n",
    "            # Menggambar sistem koordinat Kartesius di tengah frame\n",
    "            height, width, _ = frame_in_bgr.shape\n",
    "            cv2.line(frame_in_bgr, (width // 2, 0), (width // 2, height), (255, 0, 0), 1)\n",
    "            cv2.line(frame_in_bgr, (0, height // 2), (width, height // 2), (255, 0, 0), 1)\n",
    "            \n",
    "            if contour is not None:\n",
    "            # Mencari lingkaran yang melingkupi kontur dan mengambil posisinya\n",
    "                ((x, y), radius) = cv2.minEnclosingCircle(contour)\n",
    "                if radius > self.MIN_BALL_RADIUS:\n",
    "                    x, y, radius = int(x), int(y), int(radius)  # Konversi ke integer\n",
    "                    cv2.circle(frame_in_bgr, (x, y), radius, (0, 0, 255), 2)  # Gambar lingkaran di sekitar bola\n",
    "\n",
    "                    # Periksa apakah bola cukup besar dan berada di tengah\n",
    "                    if radius > 100 and (width // 2 - 50 < x < width // 2 + 50):\n",
    "                        command = \"Tendang\"\n",
    "                    else:\n",
    "                        command = \"\"  # Kosongkan jika tidak ada perintah tendang\n",
    "\n",
    "                    # Tentukan arah gerakan robot berdasarkan posisi bola\n",
    "                    if x < width // 2 - 50:  # Bola berada di kiri\n",
    "                        movement = \"Turn Left\"\n",
    "                    elif x > width // 2 + 50:  # Bola berada di kanan\n",
    "                        movement = \"Turn Right\"\n",
    "                    else:  # Bola berada di tengah\n",
    "                        movement = \"Move Forward\"\n",
    "\n",
    "                    # Tampilkan instruksi gerakan pada frame\n",
    "                    cv2.putText(frame_in_bgr, movement, (10, 30), cv2.FONT_HERSHEY_SIMPLEX, 1, (0, 255, 0), 2)\n",
    "                    # Tampilkan perintah tendang jika ada\n",
    "                    if command:\n",
    "                        cv2.putText(frame_in_bgr, command, (10, 60), cv2.FONT_HERSHEY_SIMPLEX, 1, (0, 0, 255), 2)\n",
    "\n",
    "            if display_on_screen:\n",
    "                cv2.imshow(\"Ball Tracking\", frame_in_bgr)\n",
    "            if cv2.waitKey(1) & 0xFF == ord(\"q\"):\n",
    "                break\n",
    "\n",
    "        self.camera.release()\n",
    "        cv2.destroyAllWindows()\n"
   ]
  },
  {
   "cell_type": "code",
   "execution_count": 7,
   "metadata": {},
   "outputs": [],
   "source": [
    "tracker = BallTracker(\"Blue\") \n",
    "tracker.track_ball()"
   ]
  },
  {
   "cell_type": "code",
   "execution_count": 4,
   "metadata": {},
   "outputs": [],
   "source": [
    "tracker = BallTracker(\"Green\") \n",
    "tracker.track_ball()"
   ]
  },
  {
   "cell_type": "markdown",
   "metadata": {},
   "source": [
    "Kode di atas bertujuan untuk melacak bola menggunakan deteksi warna berbasis HSV dan menggerakkan robot berdasarkan posisi bola. Jika kontur bola terdeteksi, sistem menghitung lingkaran yang mengelilingi bola untuk menentukan posisi X dan Y serta radius bola. Berdasarkan posisi bola di frame, robot akan mengambil tindakan seperti \"Turn Left\", \"Turn Right\", atau \"Move Forward\". Jika bola cukup besar dan berada di tengah frame, robot akan mengeluarkan perintah \"Tendang\". Perintah ini serta instruksi gerakan ditampilkan pada video yang diproses, memungkinkan pengendalian robot secara real-time."
   ]
  },
  {
   "cell_type": "markdown",
   "metadata": {},
   "source": []
  },
  {
   "cell_type": "markdown",
   "metadata": {},
   "source": [
    "### Progress Keuda (Kode Mengenal Bola dengan Contour Warna + pyesrial)"
   ]
  },
  {
   "cell_type": "code",
   "execution_count": 3,
   "metadata": {},
   "outputs": [],
   "source": [
    "import cv2\n",
    "import imutils\n",
    "import numpy as np\n",
    "import serial\n",
    "import time\n",
    "\n",
    "class BallTracker:\n",
    "    MIN_BALL_RADIUS = 10  \n",
    "    MAX_BALL_RADIUS = 60\n",
    "    FRAME_WIDTH = 500 \n",
    "\n",
    "    def __init__(self, color: str, serial_port: str, baud_rate: int = 9600) -> None:\n",
    "        assert color in ball_hsv_values\n",
    "        self.color = color\n",
    "        self.lower_bound = ball_hsv_values[color]['lower']\n",
    "        self.upper_bound = ball_hsv_values[color]['upper']\n",
    "        self.camera = cv2.VideoCapture(0)\n",
    "        self.serial_connection = serial.Serial(serial_port, baud_rate)\n",
    "        time.sleep(2)\n",
    "\n",
    "    def get_video_frame(self):\n",
    "        ret, frame_in_bgr = self.camera.read()\n",
    "        if not ret:\n",
    "            raise Exception('Unable to read from the camera')\n",
    "        frame_in_bgr = imutils.resize(frame_in_bgr, width=self.FRAME_WIDTH)\n",
    "        frame_in_hsv = cv2.cvtColor(frame_in_bgr, cv2.COLOR_BGR2HSV)\n",
    "        return frame_in_bgr, frame_in_hsv\n",
    "\n",
    "    def get_mask(self, frame_in_hsv):\n",
    "        mask = cv2.inRange(frame_in_hsv, self.lower_bound, self.upper_bound)\n",
    "        mask = cv2.erode(mask, None, iterations=2)\n",
    "        mask = cv2.dilate(mask, None, iterations=2)\n",
    "        return mask\n",
    "\n",
    "    def get_contour(self, mask):\n",
    "        contours = cv2.findContours(mask.copy(), cv2.RETR_EXTERNAL, cv2.CHAIN_APPROX_SIMPLE)\n",
    "        contours = contours[0] if len(contours) == 2 else contours[1]\n",
    "        if contours:\n",
    "            return max(contours, key=cv2.contourArea)\n",
    "        return None\n",
    "\n",
    "    def track_ball(self, display_on_screen=True):\n",
    "        while True:\n",
    "            frame_in_bgr, frame_in_hsv = self.get_video_frame()\n",
    "            mask = self.get_mask(frame_in_hsv)\n",
    "            contour = self.get_contour(mask)\n",
    "\n",
    "            height, width, _ = frame_in_bgr.shape\n",
    "            cv2.line(frame_in_bgr, (width // 2, 0), (width // 2, height), (255, 0, 0), 1)\n",
    "            cv2.line(frame_in_bgr, (0, height // 2), (width, height // 2), (255, 0, 0), 1)\n",
    "            \n",
    "            command = \"\"\n",
    "            if contour is not None:\n",
    "                ((x, y), radius) = cv2.minEnclosingCircle(contour)\n",
    "                if radius > self.MIN_BALL_RADIUS:\n",
    "                    x, y, radius = int(x), int(y), int(radius)\n",
    "                    cv2.circle(frame_in_bgr, (x, y), radius, (0, 0, 255), 2)\n",
    "\n",
    "                    if radius > 100 and (width // 2 - 50 < x < width // 2 + 50):\n",
    "                        command = \"T\"  \n",
    "                    if x < width // 2 - 50:\n",
    "                        movement = \"L\"  \n",
    "                    elif x > width // 2 + 50: \n",
    "                        movement = \"R\" \n",
    "                    else:\n",
    "                        movement = \"F\"  \n",
    "\n",
    "                    cv2.putText(frame_in_bgr, movement, (10, 30), cv2.FONT_HERSHEY_SIMPLEX, 1, (0, 255, 0), 2)\n",
    "                    if command == \"T\":\n",
    "                        cv2.putText(frame_in_bgr, \"Tendang\", (10, 60), cv2.FONT_HERSHEY_SIMPLEX, 1, (0, 0, 255), 2)\n",
    "\n",
    "                    self.send_command_to_arduino(movement)\n",
    "                    if command == \"T\":\n",
    "                        self.send_command_to_arduino(command)\n",
    "                else:\n",
    "                    self.send_command_to_arduino(\"S\")\n",
    "            else:\n",
    "                self.send_command_to_arduino(\"S\")  \n",
    "\n",
    "            if display_on_screen:\n",
    "                cv2.imshow(\"Ball Tracking\", frame_in_bgr)\n",
    "            if cv2.waitKey(1) & 0xFF == ord(\"q\"):\n",
    "                break\n",
    "\n",
    "        self.camera.release()\n",
    "        cv2.destroyAllWindows()\n",
    "\n",
    "    def send_command_to_arduino(self, command: str) -> None:\n",
    "        self.serial_connection.write(command.encode())\n",
    "        time.sleep(0.1)\n"
   ]
  },
  {
   "cell_type": "code",
   "execution_count": null,
   "metadata": {},
   "outputs": [
    {
     "ename": "SerialException",
     "evalue": "WriteFile failed (PermissionError(13, 'The device does not recognize the command.', None, 22))",
     "output_type": "error",
     "traceback": [
      "\u001b[1;31m---------------------------------------------------------------------------\u001b[0m",
      "\u001b[1;31mSerialException\u001b[0m                           Traceback (most recent call last)",
      "Cell \u001b[1;32mIn[5], line 2\u001b[0m\n\u001b[0;32m      1\u001b[0m tracker \u001b[38;5;241m=\u001b[39m BallTracker(\u001b[38;5;124m\"\u001b[39m\u001b[38;5;124mYellow\u001b[39m\u001b[38;5;124m\"\u001b[39m, serial_port\u001b[38;5;241m=\u001b[39m\u001b[38;5;124m'\u001b[39m\u001b[38;5;124mCOM8\u001b[39m\u001b[38;5;124m'\u001b[39m)  \n\u001b[1;32m----> 2\u001b[0m \u001b[43mtracker\u001b[49m\u001b[38;5;241;43m.\u001b[39;49m\u001b[43mtrack_ball\u001b[49m\u001b[43m(\u001b[49m\u001b[43m)\u001b[49m  \n",
      "Cell \u001b[1;32mIn[3], line 72\u001b[0m, in \u001b[0;36mBallTracker.track_ball\u001b[1;34m(self, display_on_screen)\u001b[0m\n\u001b[0;32m     69\u001b[0m \u001b[38;5;28;01mif\u001b[39;00m command \u001b[38;5;241m==\u001b[39m \u001b[38;5;124m\"\u001b[39m\u001b[38;5;124mT\u001b[39m\u001b[38;5;124m\"\u001b[39m:\n\u001b[0;32m     70\u001b[0m     cv2\u001b[38;5;241m.\u001b[39mputText(frame_in_bgr, \u001b[38;5;124m\"\u001b[39m\u001b[38;5;124mTendang\u001b[39m\u001b[38;5;124m\"\u001b[39m, (\u001b[38;5;241m10\u001b[39m, \u001b[38;5;241m60\u001b[39m), cv2\u001b[38;5;241m.\u001b[39mFONT_HERSHEY_SIMPLEX, \u001b[38;5;241m1\u001b[39m, (\u001b[38;5;241m0\u001b[39m, \u001b[38;5;241m0\u001b[39m, \u001b[38;5;241m255\u001b[39m), \u001b[38;5;241m2\u001b[39m)\n\u001b[1;32m---> 72\u001b[0m \u001b[38;5;28;43mself\u001b[39;49m\u001b[38;5;241;43m.\u001b[39;49m\u001b[43msend_command_to_arduino\u001b[49m\u001b[43m(\u001b[49m\u001b[43mmovement\u001b[49m\u001b[43m)\u001b[49m\n\u001b[0;32m     73\u001b[0m \u001b[38;5;28;01mif\u001b[39;00m command \u001b[38;5;241m==\u001b[39m \u001b[38;5;124m\"\u001b[39m\u001b[38;5;124mT\u001b[39m\u001b[38;5;124m\"\u001b[39m:\n\u001b[0;32m     74\u001b[0m     \u001b[38;5;28mself\u001b[39m\u001b[38;5;241m.\u001b[39msend_command_to_arduino(command)\n",
      "Cell \u001b[1;32mIn[3], line 89\u001b[0m, in \u001b[0;36mBallTracker.send_command_to_arduino\u001b[1;34m(self, command)\u001b[0m\n\u001b[0;32m     88\u001b[0m \u001b[38;5;28;01mdef\u001b[39;00m \u001b[38;5;21msend_command_to_arduino\u001b[39m(\u001b[38;5;28mself\u001b[39m, command: \u001b[38;5;28mstr\u001b[39m) \u001b[38;5;241m-\u001b[39m\u001b[38;5;241m>\u001b[39m \u001b[38;5;28;01mNone\u001b[39;00m:\n\u001b[1;32m---> 89\u001b[0m     \u001b[38;5;28;43mself\u001b[39;49m\u001b[38;5;241;43m.\u001b[39;49m\u001b[43mserial_connection\u001b[49m\u001b[38;5;241;43m.\u001b[39;49m\u001b[43mwrite\u001b[49m\u001b[43m(\u001b[49m\u001b[43mcommand\u001b[49m\u001b[38;5;241;43m.\u001b[39;49m\u001b[43mencode\u001b[49m\u001b[43m(\u001b[49m\u001b[43m)\u001b[49m\u001b[43m)\u001b[49m\n\u001b[0;32m     90\u001b[0m     time\u001b[38;5;241m.\u001b[39msleep(\u001b[38;5;241m0.1\u001b[39m)\n",
      "File \u001b[1;32mc:\\Users\\Alif\\AppData\\Local\\Programs\\Python\\Python312\\Lib\\site-packages\\serial\\serialwin32.py:317\u001b[0m, in \u001b[0;36mSerial.write\u001b[1;34m(self, data)\u001b[0m\n\u001b[0;32m    315\u001b[0m \u001b[38;5;28;01mif\u001b[39;00m \u001b[38;5;28mself\u001b[39m\u001b[38;5;241m.\u001b[39m_write_timeout \u001b[38;5;241m!=\u001b[39m \u001b[38;5;241m0\u001b[39m:  \u001b[38;5;66;03m# if blocking (None) or w/ write timeout (>0)\u001b[39;00m\n\u001b[0;32m    316\u001b[0m     \u001b[38;5;28;01mif\u001b[39;00m \u001b[38;5;129;01mnot\u001b[39;00m success \u001b[38;5;129;01mand\u001b[39;00m win32\u001b[38;5;241m.\u001b[39mGetLastError() \u001b[38;5;129;01mnot\u001b[39;00m \u001b[38;5;129;01min\u001b[39;00m (win32\u001b[38;5;241m.\u001b[39mERROR_SUCCESS, win32\u001b[38;5;241m.\u001b[39mERROR_IO_PENDING):\n\u001b[1;32m--> 317\u001b[0m         \u001b[38;5;28;01mraise\u001b[39;00m SerialException(\u001b[38;5;124m\"\u001b[39m\u001b[38;5;124mWriteFile failed (\u001b[39m\u001b[38;5;132;01m{!r}\u001b[39;00m\u001b[38;5;124m)\u001b[39m\u001b[38;5;124m\"\u001b[39m\u001b[38;5;241m.\u001b[39mformat(ctypes\u001b[38;5;241m.\u001b[39mWinError()))\n\u001b[0;32m    319\u001b[0m     \u001b[38;5;66;03m# Wait for the write to complete.\u001b[39;00m\n\u001b[0;32m    320\u001b[0m     \u001b[38;5;66;03m#~ win32.WaitForSingleObject(self._overlapped_write.hEvent, win32.INFINITE)\u001b[39;00m\n\u001b[0;32m    321\u001b[0m     win32\u001b[38;5;241m.\u001b[39mGetOverlappedResult(\u001b[38;5;28mself\u001b[39m\u001b[38;5;241m.\u001b[39m_port_handle, \u001b[38;5;28mself\u001b[39m\u001b[38;5;241m.\u001b[39m_overlapped_write, ctypes\u001b[38;5;241m.\u001b[39mbyref(n), \u001b[38;5;28;01mTrue\u001b[39;00m)\n",
      "\u001b[1;31mSerialException\u001b[0m: WriteFile failed (PermissionError(13, 'The device does not recognize the command.', None, 22))"
     ]
    },
    {
     "ename": "",
     "evalue": "",
     "output_type": "error",
     "traceback": [
      "\u001b[1;31mThe Kernel crashed while executing code in the current cell or a previous cell. \n",
      "\u001b[1;31mPlease review the code in the cell(s) to identify a possible cause of the failure. \n",
      "\u001b[1;31mClick <a href='https://aka.ms/vscodeJupyterKernelCrash'>here</a> for more info. \n",
      "\u001b[1;31mView Jupyter <a href='command:jupyter.viewOutput'>log</a> for further details."
     ]
    }
   ],
   "source": [
    "tracker = BallTracker(\"Yellow\", serial_port='COM8')  \n",
    "tracker.track_ball()  \n"
   ]
  }
 ],
 "metadata": {
  "kernelspec": {
   "display_name": "Python 3",
   "language": "python",
   "name": "python3"
  },
  "language_info": {
   "codemirror_mode": {
    "name": "ipython",
    "version": 3
   },
   "file_extension": ".py",
   "mimetype": "text/x-python",
   "name": "python",
   "nbconvert_exporter": "python",
   "pygments_lexer": "ipython3",
   "version": "3.12.0"
  }
 },
 "nbformat": 4,
 "nbformat_minor": 2
}
